{
 "cells": [
  {
   "cell_type": "code",
   "execution_count": 1,
   "metadata": {},
   "outputs": [
    {
     "data": {
      "text/plain": [
       "\u001b[32mimport \u001b[39m\u001b[36m$cp.$       \u001b[39m"
      ]
     },
     "execution_count": 1,
     "metadata": {},
     "output_type": "execute_result"
    }
   ],
   "source": [
    "import $cp.`eg.jar`"
   ]
  },
  {
   "cell_type": "code",
   "execution_count": 2,
   "metadata": {},
   "outputs": [
    {
     "data": {
      "text/plain": [
       "\u001b[32mimport \u001b[39m\u001b[36msurface._\u001b[39m"
      ]
     },
     "execution_count": 2,
     "metadata": {},
     "output_type": "execute_result"
    }
   ],
   "source": [
    "import surface._"
   ]
  },
  {
   "cell_type": "code",
   "execution_count": 6,
   "metadata": {},
   "outputs": [
    {
     "name": "stderr",
     "output_type": "stream",
     "text": [
      "Info: GLReadBufferUtil.readPixels: pre-exisiting GL error 0x502\n"
     ]
    },
    {
     "data": {
      "text/plain": [
       "\u001b[36mtorusBuff\u001b[39m: \u001b[32mjava\u001b[39m.\u001b[32mawt\u001b[39m.\u001b[32mimage\u001b[39m.\u001b[32mBufferedImage\u001b[39m = BufferedImage@4855965d: type = 2 DirectColorModel: rmask=ff0000 gmask=ff00 bmask=ff amask=ff000000 IntegerInterleavedRaster: width = 500 height = 500 #Bands = 4 xOff = 0 yOff = 0 dataOffset[0] 0"
      ]
     },
     "execution_count": 6,
     "metadata": {},
     "output_type": "execute_result"
    }
   ],
   "source": [
    "val torusBuff = Torus.torusBuffer(50)"
   ]
  },
  {
   "cell_type": "code",
   "execution_count": 4,
   "metadata": {},
   "outputs": [
    {
     "data": {
      "text/plain": [
       "\u001b[32mimport \u001b[39m\u001b[36malmond.display\u001b[39m"
      ]
     },
     "execution_count": 4,
     "metadata": {},
     "output_type": "execute_result"
    }
   ],
   "source": [
    "import almond.display"
   ]
  },
  {
   "cell_type": "code",
   "execution_count": 5,
   "metadata": {},
   "outputs": [
    {
     "ename": "",
     "evalue": "",
     "output_type": "error",
     "traceback": [
      "\u001b[31mjavax.imageio.IIOException: Invalid argument to native writeImage\u001b[39m\n  com.sun.imageio.plugins.jpeg.JPEGImageWriter.writeImage(\u001b[32mNative Method\u001b[39m)\n  com.sun.imageio.plugins.jpeg.JPEGImageWriter.writeOnThread(\u001b[32mJPEGImageWriter.java\u001b[39m:\u001b[32m1067\u001b[39m)\n  com.sun.imageio.plugins.jpeg.JPEGImageWriter.write(\u001b[32mJPEGImageWriter.java\u001b[39m:\u001b[32m363\u001b[39m)\n  javax.imageio.ImageWriter.write(\u001b[32mImageWriter.java\u001b[39m:\u001b[32m615\u001b[39m)\n  javax.imageio.ImageIO.doWrite(\u001b[32mImageIO.java\u001b[39m:\u001b[32m1622\u001b[39m)\n  javax.imageio.ImageIO.write(\u001b[32mImageIO.java\u001b[39m:\u001b[32m1588\u001b[39m)\n  almond.display.Image$.fromRenderedImage(\u001b[32mImage.scala\u001b[39m:\u001b[32m119\u001b[39m)\n  almond.display.Image$.fromRenderedImage(\u001b[32mImage.scala\u001b[39m:\u001b[32m115\u001b[39m)\n  ammonite.$sess.cmd4$Helper.<init>(\u001b[32mcmd4.sc\u001b[39m:\u001b[32m1\u001b[39m)\n  ammonite.$sess.cmd4$.<clinit>(\u001b[32mcmd4.sc\u001b[39m:\u001b[32m7\u001b[39m)"
     ]
    }
   ],
   "source": [
    "display.Image.fromRenderedImage(torusBuff)"
   ]
  },
  {
   "cell_type": "code",
   "execution_count": 7,
   "metadata": {},
   "outputs": [
    {
     "data": {
      "text/plain": [
       "\u001b[36mres6\u001b[39m: \u001b[32mjava\u001b[39m.\u001b[32mawt\u001b[39m.\u001b[32mimage\u001b[39m.\u001b[32mBufferedImage\u001b[39m = BufferedImage@7bc2529b: type = 2 DirectColorModel: rmask=ff0000 gmask=ff00 bmask=ff amask=ff000000 IntegerInterleavedRaster: width = 500 height = 500 #Bands = 4 xOff = 0 yOff = 0 dataOffset[0] 0"
      ]
     },
     "execution_count": 7,
     "metadata": {},
     "output_type": "execute_result"
    }
   ],
   "source": [
    "Surface.buf"
   ]
  },
  {
   "cell_type": "code",
   "execution_count": 8,
   "metadata": {},
   "outputs": [
    {
     "ename": "",
     "evalue": "",
     "output_type": "error",
     "traceback": [
      "\u001b[31mjavax.imageio.IIOException: Invalid argument to native writeImage\u001b[39m\n  com.sun.imageio.plugins.jpeg.JPEGImageWriter.writeImage(\u001b[32mNative Method\u001b[39m)\n  com.sun.imageio.plugins.jpeg.JPEGImageWriter.writeOnThread(\u001b[32mJPEGImageWriter.java\u001b[39m:\u001b[32m1067\u001b[39m)\n  com.sun.imageio.plugins.jpeg.JPEGImageWriter.write(\u001b[32mJPEGImageWriter.java\u001b[39m:\u001b[32m363\u001b[39m)\n  javax.imageio.ImageWriter.write(\u001b[32mImageWriter.java\u001b[39m:\u001b[32m615\u001b[39m)\n  javax.imageio.ImageIO.doWrite(\u001b[32mImageIO.java\u001b[39m:\u001b[32m1622\u001b[39m)\n  javax.imageio.ImageIO.write(\u001b[32mImageIO.java\u001b[39m:\u001b[32m1588\u001b[39m)\n  almond.display.Image$.fromRenderedImage(\u001b[32mImage.scala\u001b[39m:\u001b[32m119\u001b[39m)\n  almond.display.Image$.fromRenderedImage(\u001b[32mImage.scala\u001b[39m:\u001b[32m115\u001b[39m)\n  ammonite.$sess.cmd7$Helper.<init>(\u001b[32mcmd7.sc\u001b[39m:\u001b[32m1\u001b[39m)\n  ammonite.$sess.cmd7$.<clinit>(\u001b[32mcmd7.sc\u001b[39m:\u001b[32m7\u001b[39m)"
     ]
    }
   ],
   "source": [
    "display.Image.fromRenderedImage(Surface.buf)"
   ]
  },
  {
   "cell_type": "code",
   "execution_count": 9,
   "metadata": {},
   "outputs": [
    {
     "data": {
      "text/plain": [
       "\u001b[32mimport \u001b[39m\u001b[36morg.jzy3d.chart.Chart;\n",
       "\u001b[39m\n",
       "\u001b[32mimport \u001b[39m\u001b[36morg.jzy3d.colors.ColorMapper;\n",
       "\u001b[39m\n",
       "\u001b[32mimport \u001b[39m\u001b[36morg.jzy3d.colors.colormaps.ColorMapRainbow;\n",
       "\u001b[39m\n",
       "\u001b[32mimport \u001b[39m\u001b[36morg.jzy3d.maths.Coord3d;\n",
       "\u001b[39m\n",
       "\u001b[32mimport \u001b[39m\u001b[36morg.jzy3d.plot3d.primitives._\n",
       "\u001b[39m\n",
       "\u001b[32mimport \u001b[39m\u001b[36morg.jzy3d.plot3d.primitives.Polygon;\n",
       "\u001b[39m\n",
       "\u001b[32mimport \u001b[39m\u001b[36morg.jzy3d.plot3d.primitives.Shape;\n",
       "\u001b[39m\n",
       "\u001b[32mimport \u001b[39m\u001b[36morg.jzy3d.chart._\n",
       "\u001b[39m\n",
       "\u001b[32mimport \u001b[39m\u001b[36morg.jzy3d.plot3d.rendering.canvas.Quality\n",
       "\n",
       "\u001b[39m\n",
       "\u001b[32mimport \u001b[39m\u001b[36mscala.jdk.CollectionConverters._\n",
       "\n",
       "\u001b[39m\n",
       "\u001b[32mimport \u001b[39m\u001b[36mscala.math.{sin, cos, Pi, sqrt}\n",
       "\u001b[39m\n",
       "\u001b[32mimport \u001b[39m\u001b[36morg.jzy3d.colors.colormaps.ColorMapHotCold\n",
       "\u001b[39m\n",
       "\u001b[32mimport \u001b[39m\u001b[36morg.jzy3d.colors.Color\n",
       "\u001b[39m\n",
       "\u001b[32mimport \u001b[39m\u001b[36mscala.util._\n",
       "\u001b[39m\n",
       "\u001b[32mimport \u001b[39m\u001b[36morg.jzy3d.chart.factories.AWTChartComponentFactory\n",
       "\u001b[39m\n",
       "\u001b[32mimport \u001b[39m\u001b[36morg.jzy3d.plot3d.rendering.view.AWTRenderer3d\u001b[39m"
      ]
     },
     "execution_count": 9,
     "metadata": {},
     "output_type": "execute_result"
    }
   ],
   "source": [
    "import org.jzy3d.chart.Chart;\n",
    "import org.jzy3d.colors.ColorMapper;\n",
    "import org.jzy3d.colors.colormaps.ColorMapRainbow;\n",
    "import org.jzy3d.maths.Coord3d;\n",
    "import org.jzy3d.plot3d.primitives._\n",
    "import org.jzy3d.plot3d.primitives.Polygon;\n",
    "import org.jzy3d.plot3d.primitives.Shape;\n",
    "import org.jzy3d.chart._\n",
    "import org.jzy3d.plot3d.rendering.canvas.Quality\n",
    "\n",
    "import scala.jdk.CollectionConverters._\n",
    "\n",
    "import scala.math.{sin, cos, Pi, sqrt}\n",
    "import org.jzy3d.colors.colormaps.ColorMapHotCold\n",
    "import org.jzy3d.colors.Color\n",
    "import scala.util._\n",
    "import org.jzy3d.chart.factories.AWTChartComponentFactory\n",
    "import org.jzy3d.plot3d.rendering.view.AWTRenderer3d"
   ]
  },
  {
   "cell_type": "code",
   "execution_count": 11,
   "metadata": {},
   "outputs": [
    {
     "data": {
      "text/plain": [
       "\u001b[36msteps\u001b[39m: \u001b[32mInt\u001b[39m = \u001b[32m50\u001b[39m\n",
       "\u001b[32mimport \u001b[39m\u001b[36mTorus._\u001b[39m"
      ]
     },
     "execution_count": 11,
     "metadata": {},
     "output_type": "execute_result"
    }
   ],
   "source": [
    "val steps = 50\n",
    "import Torus._"
   ]
  },
  {
   "cell_type": "code",
   "execution_count": 12,
   "metadata": {},
   "outputs": [
    {
     "data": {
      "text/plain": [
       "\u001b[36mchart\u001b[39m: \u001b[32mChart\u001b[39m = org.jzy3d.chart.AWTChart@28f3c8b0\n",
       "\u001b[36mres11_1\u001b[39m: \u001b[32mChart\u001b[39m = org.jzy3d.chart.AWTChart@28f3c8b0"
      ]
     },
     "execution_count": 12,
     "metadata": {},
     "output_type": "execute_result"
    }
   ],
   "source": [
    "val chart = AWTChartComponentFactory.chart(Quality.Advanced, \"offscreen\")\n",
    "    chart.add(torusGridSurface(steps))"
   ]
  },
  {
   "cell_type": "code",
   "execution_count": 13,
   "metadata": {},
   "outputs": [
    {
     "data": {
      "text/plain": [
       "\u001b[36mcanvas\u001b[39m: \u001b[32morg\u001b[39m.\u001b[32mjzy3d\u001b[39m.\u001b[32mplot3d\u001b[39m.\u001b[32mrendering\u001b[39m.\u001b[32mcanvas\u001b[39m.\u001b[32mICanvas\u001b[39m = org.jzy3d.plot3d.rendering.canvas.OffscreenCanvas@7e767b3c\n",
       "\u001b[36mrenderer\u001b[39m: \u001b[32mAWTRenderer3d\u001b[39m = org.jzy3d.plot3d.rendering.view.AWTRenderer3d@866abf1"
      ]
     },
     "execution_count": 13,
     "metadata": {},
     "output_type": "execute_result"
    }
   ],
   "source": [
    "val canvas = chart.getCanvas()\n",
    "    val renderer = canvas.getRenderer().asInstanceOf[AWTRenderer3d]"
   ]
  },
  {
   "cell_type": "code",
   "execution_count": 14,
   "metadata": {},
   "outputs": [
    {
     "name": "stderr",
     "output_type": "stream",
     "text": [
      "Info: GLReadBufferUtil.readPixels: pre-exisiting GL error 0x502\n"
     ]
    },
    {
     "data": {
      "text/plain": [
       "\u001b[36mres13\u001b[39m: \u001b[32mcom\u001b[39m.\u001b[32mjogamp\u001b[39m.\u001b[32mopengl\u001b[39m.\u001b[32mutil\u001b[39m.\u001b[32mtexture\u001b[39m.\u001b[32mTextureData\u001b[39m = TextureData[500x500, y-flip true, internFormat 0x1908, PixelAttributes[fmt 0x80e1, type 0x1401, BGRA8888], border 0, estSize 1000000, alignment 1, rowlen 0"
      ]
     },
     "execution_count": 14,
     "metadata": {},
     "output_type": "execute_result"
    }
   ],
   "source": [
    "canvas.screenshot()"
   ]
  },
  {
   "cell_type": "code",
   "execution_count": 15,
   "metadata": {},
   "outputs": [
    {
     "data": {
      "text/plain": [
       "\u001b[36mres14\u001b[39m: \u001b[32mShape\u001b[39m = (Composite3d) #elements:2401 | isDisplayed=true"
      ]
     },
     "execution_count": 15,
     "metadata": {},
     "output_type": "execute_result"
    }
   ],
   "source": [
    "Surface.surface"
   ]
  },
  {
   "cell_type": "code",
   "execution_count": 16,
   "metadata": {},
   "outputs": [
    {
     "data": {
      "text/plain": [
       "\u001b[36mres15\u001b[39m: \u001b[32mShape\u001b[39m = (Composite3d) #elements:2501 | isDisplayed=true"
      ]
     },
     "execution_count": 16,
     "metadata": {},
     "output_type": "execute_result"
    }
   ],
   "source": [
    "torusGridSurface(50)"
   ]
  },
  {
   "cell_type": "code",
   "execution_count": 17,
   "metadata": {},
   "outputs": [
    {
     "data": {
      "text/plain": [
       "\u001b[36mres16\u001b[39m: \u001b[32mAWTChart\u001b[39m = org.jzy3d.chart.AWTChart@13940d18"
      ]
     },
     "execution_count": 17,
     "metadata": {},
     "output_type": "execute_result"
    }
   ],
   "source": [
    "torusChart(50)"
   ]
  },
  {
   "cell_type": "code",
   "execution_count": 19,
   "metadata": {},
   "outputs": [
    {
     "data": {
      "text/plain": [
       "\u001b[36mtc\u001b[39m: \u001b[32mAWTChart\u001b[39m = org.jzy3d.chart.AWTChart@5e3f5606\n",
       "\u001b[36mframe\u001b[39m: \u001b[32morg\u001b[39m.\u001b[32mjzy3d\u001b[39m.\u001b[32mbridge\u001b[39m.\u001b[32mIFrame\u001b[39m = org.jzy3d.bridge.awt.FrameAWT[frame1,0,0,600x600,layout=java.awt.BorderLayout,title=Jzy3d Demo,resizable,normal]"
      ]
     },
     "execution_count": 19,
     "metadata": {},
     "output_type": "execute_result"
    }
   ],
   "source": [
    "val tc = torusChart(50)\n",
    "val frame = tc.open(\"Jzy3d Demo\", 600, 600)"
   ]
  },
  {
   "cell_type": "code",
   "execution_count": 20,
   "metadata": {},
   "outputs": [
    {
     "data": {
      "text/plain": [
       "\u001b[32mimport \u001b[39m\u001b[36morg.jzy3d.bridge.awt._\n",
       "\u001b[39m\n",
       "\u001b[36miframe\u001b[39m: \u001b[32mFrameAWT\u001b[39m = org.jzy3d.bridge.awt.FrameAWT[frame1,67,27,600x600,layout=java.awt.BorderLayout,title=Jzy3d Demo,resizable,normal]"
      ]
     },
     "execution_count": 20,
     "metadata": {},
     "output_type": "execute_result"
    }
   ],
   "source": [
    "import org.jzy3d.bridge.awt._\n",
    "val iframe = frame.asInstanceOf[FrameAWT]"
   ]
  },
  {
   "cell_type": "code",
   "execution_count": 20,
   "metadata": {},
   "outputs": [
    {
     "name": "stderr",
     "output_type": "stream",
     "text": [
      "cmd20.sc:1: ambiguous reference to overloaded definition,\n",
      "both method createImage in class Component of type (x$1: Int, x$2: Int)java.awt.Image\n",
      "and  method createImage in class Component of type (x$1: java.awt.image.ImageProducer)java.awt.Image\n",
      "match expected type ?\n",
      "val res20 = iframe.createImage\n",
      "                   ^Compilation Failed"
     ]
    },
    {
     "ename": "",
     "evalue": "",
     "output_type": "error",
     "traceback": [
      "Compilation Failed"
     ]
    }
   ],
   "source": [
    "iframe.createImage"
   ]
  },
  {
   "cell_type": "code",
   "execution_count": 20,
   "metadata": {},
   "outputs": [
    {
     "name": "stderr",
     "output_type": "stream",
     "text": [
      "cmd20.sc:1: class java.awt.image.renderable.RenderableImageProducer is not a value\n",
      "val res20 = java.awt.image.renderable.RenderableImageProducer\n",
      "                                      ^Compilation Failed"
     ]
    },
    {
     "ename": "",
     "evalue": "",
     "output_type": "error",
     "traceback": [
      "Compilation Failed"
     ]
    }
   ],
   "source": [
    "java.awt.image.renderable.RenderableImageProducer"
   ]
  },
  {
   "cell_type": "code",
   "execution_count": 21,
   "metadata": {},
   "outputs": [
    {
     "data": {
      "text/plain": [
       "\u001b[36mcanvas\u001b[39m: \u001b[32morg\u001b[39m.\u001b[32mjzy3d\u001b[39m.\u001b[32mplot3d\u001b[39m.\u001b[32mrendering\u001b[39m.\u001b[32mcanvas\u001b[39m.\u001b[32mICanvas\u001b[39m = AWT-GLCanvas[Realized true,\n",
       "\tjogamp.opengl.x11.glx.X11OnscreenGLXDrawable,\n",
       "\tFactory   jogamp.opengl.x11.glx.X11GLXDrawableFactory@5d138a29,\n",
       "\thandle    0x3400048,\n",
       "\tDrawable size 600x570 surface[600x570],\n",
       "\tAWT[pos 0/30, size 600x570,\n",
       "\tvisible true, displayable true, showing true,\n",
       "\tAWTGraphicsConfiguration[AWTGraphicsScreen[AWTGraphicsDevice[type .awt, connection :0.0, unitID 0, awtDevice X11GraphicsDevice[screen=0], handle 0x0], idx 0],\n",
       "\tchosen    GLCaps[glx vid 0x31e, fbc 0xaf: rgba 8/8/8/0, opaque, accum-rgba 0/0/0/0, dp/st/ms 24/0/0, dbl, mono  , hw, GLProfile[GL2/GL3bc.hw], on-scr[.]],\n",
       "\trequested GLCaps[rgba 8/8/8/0, opaque, accum-rgba 0/0/0/0, dp/st/ms 16/0/0, dbl, mono  , sw, GLProfile[GL2/GL3bc.hw], on-scr[.]],\n",
       "\tX11GraphicsConfig[dev=X11GraphicsDevice[screen=0],vis=0x31e],\n",
       "\tencapsulated X11GLXGraphicsConfiguration[X11GraphicsScreen[X11GraphicsDevice[type .x11, connection :0, unitID 0, handle 0x7fb8e9205760, owner true, JAWTToolkitLock[obj 0x5f12ced4, isOwner false, <644ab166, 606c2d32>[count 1, qsz 0, owner <AWT-EventQueue-1>]]], idx 0], visualID 0x31e, fbConfigID 0xaf,\n",
       "\trequested GLCaps[rgba 8/8/8/0, opaque, accum-rgba 0/0/0/0, dp/st/ms 16/0/0, dbl, mono  , sw, GLProfile[GL2/GL3bc.hw], on-scr[.]],\n",
       "\tchosen    GLCaps[glx vid 0x31e, fbc 0xaf: rgba 8/8/8/0, opaque, accum-rgba 0/0/0/0, dp/st/ms 24/0/0, dbl, mono  , hw, GLProfile[GL2/GL3bc.hw], on-scr[.]]]]]]"
      ]
     },
     "execution_count": 21,
     "metadata": {},
     "output_type": "execute_result"
    }
   ],
   "source": [
    "val canvas = tc.getCanvas()"
   ]
  },
  {
   "cell_type": "code",
   "execution_count": 22,
   "metadata": {},
   "outputs": [
    {
     "data": {
      "text/plain": [
       "\u001b[36mtr\u001b[39m: \u001b[32mAWTRenderer3d\u001b[39m = org.jzy3d.plot3d.rendering.view.AWTRenderer3d@4c7c6f76"
      ]
     },
     "execution_count": 22,
     "metadata": {},
     "output_type": "execute_result"
    }
   ],
   "source": [
    "val tr = canvas.getRenderer().asInstanceOf[AWTRenderer3d]"
   ]
  },
  {
   "cell_type": "code",
   "execution_count": 23,
   "metadata": {},
   "outputs": [
    {
     "name": "stderr",
     "output_type": "stream",
     "text": [
      "Info: GLReadBufferUtil.readPixels: pre-exisiting GL error 0x502\n"
     ]
    },
    {
     "data": {
      "text/plain": [
       "\u001b[36mres22\u001b[39m: \u001b[32mcom\u001b[39m.\u001b[32mjogamp\u001b[39m.\u001b[32mopengl\u001b[39m.\u001b[32mutil\u001b[39m.\u001b[32mtexture\u001b[39m.\u001b[32mTextureData\u001b[39m = TextureData[600x570, y-flip true, internFormat 0x1908, PixelAttributes[fmt 0x80e1, type 0x1401, BGRA8888], border 0, estSize 1368000, alignment 1, rowlen 0"
      ]
     },
     "execution_count": 23,
     "metadata": {},
     "output_type": "execute_result"
    }
   ],
   "source": [
    "canvas.screenshot()"
   ]
  },
  {
   "cell_type": "code",
   "execution_count": 24,
   "metadata": {},
   "outputs": [
    {
     "data": {
      "text/plain": [
       "\u001b[32mimport \u001b[39m\u001b[36mjava.io._\n",
       "\u001b[39m\n",
       "\u001b[36mimage\u001b[39m: \u001b[32mFile\u001b[39m = image.png"
      ]
     },
     "execution_count": 24,
     "metadata": {},
     "output_type": "execute_result"
    }
   ],
   "source": [
    "import java.io._\n",
    "val image = new File(\"image.png\");"
   ]
  },
  {
   "cell_type": "code",
   "execution_count": 25,
   "metadata": {},
   "outputs": [
    {
     "name": "stderr",
     "output_type": "stream",
     "text": [
      "Info: GLReadBufferUtil.readPixels: pre-exisiting GL error 0x502\n"
     ]
    },
    {
     "data": {
      "text/plain": [
       "\u001b[36mres24\u001b[39m: \u001b[32mcom\u001b[39m.\u001b[32mjogamp\u001b[39m.\u001b[32mopengl\u001b[39m.\u001b[32mutil\u001b[39m.\u001b[32mtexture\u001b[39m.\u001b[32mTextureData\u001b[39m = TextureData[600x570, y-flip true, internFormat 0x1908, PixelAttributes[fmt 0x80e1, type 0x1401, BGRA8888], border 0, estSize 1368000, alignment 1, rowlen 0"
      ]
     },
     "execution_count": 25,
     "metadata": {},
     "output_type": "execute_result"
    }
   ],
   "source": [
    "tc.screenshot(image)"
   ]
  },
  {
   "cell_type": "code",
   "execution_count": null,
   "metadata": {},
   "outputs": [],
   "source": []
  }
 ],
 "metadata": {
  "kernelspec": {
   "display_name": "scala-2.13",
   "language": "scala",
   "name": "scala-2.13"
  },
  "language_info": {
   "codemirror_mode": "text/x-scala",
   "file_extension": ".scala",
   "mimetype": "text/x-scala",
   "name": "scala",
   "nbconvert_exporter": "script",
   "version": "2.13.1"
  }
 },
 "nbformat": 4,
 "nbformat_minor": 2
}
