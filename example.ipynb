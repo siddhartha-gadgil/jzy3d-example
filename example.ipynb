{
 "cells": [
  {
   "cell_type": "code",
   "execution_count": 1,
   "metadata": {},
   "outputs": [
    {
     "data": {
      "text/plain": [
       "\u001b[32mimport \u001b[39m\u001b[36m$cp.$       \u001b[39m"
      ]
     },
     "execution_count": 1,
     "metadata": {},
     "output_type": "execute_result"
    }
   ],
   "source": [
    "import $cp.`eg.jar`"
   ]
  },
  {
   "cell_type": "code",
   "execution_count": 2,
   "metadata": {},
   "outputs": [
    {
     "data": {
      "text/plain": [
       "\u001b[32mimport \u001b[39m\u001b[36msurface._\u001b[39m"
      ]
     },
     "execution_count": 2,
     "metadata": {},
     "output_type": "execute_result"
    }
   ],
   "source": [
    "import surface._"
   ]
  },
  {
   "cell_type": "code",
   "execution_count": 3,
   "metadata": {},
   "outputs": [
    {
     "data": {
      "text/plain": [
       "\u001b[32mimport \u001b[39m\u001b[36malmond.display\u001b[39m"
      ]
     },
     "execution_count": 3,
     "metadata": {},
     "output_type": "execute_result"
    }
   ],
   "source": [
    "import almond.display"
   ]
  },
  {
   "cell_type": "code",
   "execution_count": 5,
   "metadata": {},
   "outputs": [
    {
     "data": {
      "text/plain": [
       "\u001b[36mres4\u001b[39m: \u001b[32mjava\u001b[39m.\u001b[32mawt\u001b[39m.\u001b[32mimage\u001b[39m.\u001b[32mBufferedImage\u001b[39m = BufferedImage@1e04d776: type = 2 DirectColorModel: rmask=ff0000 gmask=ff00 bmask=ff amask=ff000000 IntegerInterleavedRaster: width = 500 height = 500 #Bands = 4 xOff = 0 yOff = 0 dataOffset[0] 0"
      ]
     },
     "execution_count": 5,
     "metadata": {},
     "output_type": "execute_result"
    }
   ],
   "source": [
    "Surface.buf"
   ]
  },
  {
   "cell_type": "code",
   "execution_count": 6,
   "metadata": {},
   "outputs": [
    {
     "ename": "",
     "evalue": "",
     "output_type": "error",
     "traceback": [
      "\u001b[31mjavax.imageio.IIOException: Invalid argument to native writeImage\u001b[39m\n  com.sun.imageio.plugins.jpeg.JPEGImageWriter.writeImage(\u001b[32mNative Method\u001b[39m)\n  com.sun.imageio.plugins.jpeg.JPEGImageWriter.writeOnThread(\u001b[32mJPEGImageWriter.java\u001b[39m:\u001b[32m1067\u001b[39m)\n  com.sun.imageio.plugins.jpeg.JPEGImageWriter.write(\u001b[32mJPEGImageWriter.java\u001b[39m:\u001b[32m363\u001b[39m)\n  javax.imageio.ImageWriter.write(\u001b[32mImageWriter.java\u001b[39m:\u001b[32m615\u001b[39m)\n  javax.imageio.ImageIO.doWrite(\u001b[32mImageIO.java\u001b[39m:\u001b[32m1622\u001b[39m)\n  javax.imageio.ImageIO.write(\u001b[32mImageIO.java\u001b[39m:\u001b[32m1588\u001b[39m)\n  almond.display.Image$.fromRenderedImage(\u001b[32mImage.scala\u001b[39m:\u001b[32m119\u001b[39m)\n  almond.display.Image$.fromRenderedImage(\u001b[32mImage.scala\u001b[39m:\u001b[32m115\u001b[39m)\n  ammonite.$sess.cmd5$Helper.<init>(\u001b[32mcmd5.sc\u001b[39m:\u001b[32m1\u001b[39m)\n  ammonite.$sess.cmd5$.<clinit>(\u001b[32mcmd5.sc\u001b[39m:\u001b[32m7\u001b[39m)"
     ]
    }
   ],
   "source": [
    "display.Image.fromRenderedImage(Surface.buf)"
   ]
  },
  {
   "cell_type": "code",
   "execution_count": null,
   "metadata": {},
   "outputs": [],
   "source": []
  }
 ],
 "metadata": {
  "kernelspec": {
   "display_name": "scala-2.13",
   "language": "scala",
   "name": "scala-2.13"
  },
  "language_info": {
   "codemirror_mode": "text/x-scala",
   "file_extension": ".scala",
   "mimetype": "text/x-scala",
   "name": "scala",
   "nbconvert_exporter": "script",
   "version": "2.13.1"
  }
 },
 "nbformat": 4,
 "nbformat_minor": 2
}
